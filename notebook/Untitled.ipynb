{
 "cells": [
  {
   "cell_type": "code",
   "execution_count": 2,
   "id": "fedf95dc",
   "metadata": {},
   "outputs": [],
   "source": [
    "import sqlite3"
   ]
  },
  {
   "cell_type": "code",
   "execution_count": 3,
   "id": "829c9509",
   "metadata": {},
   "outputs": [],
   "source": [
    "DATABASE = '../data/db.sqlite3'"
   ]
  },
  {
   "cell_type": "code",
   "execution_count": 73,
   "id": "dd5b3526",
   "metadata": {},
   "outputs": [
    {
     "name": "stdout",
     "output_type": "stream",
     "text": [
      "Понедельник\n",
      "[[2020, 'Триодь Цветная', None], [2023, 'Службы Светлой седмицы', 2020]]\n"
     ]
    }
   ],
   "source": [
    "con = sqlite3.connect(DATABASE)\n",
    "con.row_factory = sqlite3.Row\n",
    "cur = con.cursor()\n",
    "\n",
    "crumbs = []\n",
    "\n",
    "i = 2026\n",
    "\n",
    "\n",
    "sqlt = \"select * from hymns_textblock where id = \" + str(i)\n",
    "cur.execute(sqlt)\n",
    "current = cur.fetchall()\n",
    "name = current[0][1]\n",
    "parentid = current[0][6]\n",
    "i = parentid\n",
    "\n",
    "print(name)\n",
    "\n",
    "while i:\n",
    "    psql = \"select * from hymns_textblock where id = \" + str(i)\n",
    "    cur.execute(psql)\n",
    "    pblock = cur.fetchall()\n",
    "    if pblock:\n",
    "        bid = pblock[0][0]\n",
    "        name = pblock[0][1]\n",
    "        pid = pblock[0][6]\n",
    "        crumbs.append([bid, name, pid])\n",
    "        i = pid\n",
    "\n",
    "    else:\n",
    "        break\n",
    "        \n",
    "\n",
    "crumbs = sorted(crumbs, key=lambda x: x[0])\n",
    "print(crumbs)"
   ]
  },
  {
   "cell_type": "markdown",
   "id": "8c64a090",
   "metadata": {},
   "source": [
    "-----"
   ]
  },
  {
   "cell_type": "code",
   "execution_count": 91,
   "id": "1f096f21",
   "metadata": {},
   "outputs": [
    {
     "name": "stdout",
     "output_type": "stream",
     "text": [
      "[71168, 'Сие́ бо глаго́лем нача́ло: Христо́с воскре́се: <в часе́х, и Вече́рнях, и Повече́риях, от сея́ Утрени неде́ли Антипа́схи, да́же и до Вознесе́ния Госпо́дня. [Ка́ко у́бо не извести́ся о Полу́нощнице, я́ве я́ко в ке́ллиах мню́ се́й бы́ти пева́емей, поне́же у́бо и та́мо си́це нача́ло быва́ет.]>\\n', 2, 2049]\n",
      "[[2020, 'Триодь Цветная', None], [2043, 'Службы второй седмицы по Пасхе', 2020], [2048, 'Понедельник', 2043], [2049, 'Последование утрени', 2048]]\n"
     ]
    }
   ],
   "source": [
    "con = sqlite3.connect(DATABASE)\n",
    "con.row_factory = sqlite3.Row\n",
    "cur = con.cursor()\n",
    "\n",
    "crumbs = []\n",
    "\n",
    "i = 71168\n",
    "\n",
    "\n",
    "sqlt = \"select * from hymns_paragraph where id = \" + str(i)\n",
    "cur.execute(sqlt)\n",
    "par = cur.fetchall()\n",
    "txt = par[0][1]\n",
    "order = par[0][3]\n",
    "parentid = par[0][4]\n",
    "curlist = [i, txt, order, parentid]\n",
    "i = parentid\n",
    "\n",
    "print(curlist)\n",
    "\n",
    "while i:\n",
    "    psql = \"select * from hymns_textblock where id = \" + str(i)\n",
    "    cur.execute(psql)\n",
    "    pblock = cur.fetchall()\n",
    "    if pblock:\n",
    "        bid = pblock[0][0]\n",
    "        name = pblock[0][1]\n",
    "        pid = pblock[0][6]\n",
    "        crumbs.append([bid, name, pid])\n",
    "        i = pid\n",
    "\n",
    "    else:\n",
    "        break\n",
    "        \n",
    "\n",
    "crumbs = sorted(crumbs, key=lambda x: x[0])\n",
    "print(crumbs)"
   ]
  },
  {
   "cell_type": "code",
   "execution_count": 90,
   "id": "c16c8545",
   "metadata": {},
   "outputs": [
    {
     "data": {
      "text/plain": [
       "<sqlite3.Row at 0x10bff8530>"
      ]
     },
     "execution_count": 90,
     "metadata": {},
     "output_type": "execute_result"
    }
   ],
   "source": [
    "par[0]"
   ]
  },
  {
   "cell_type": "code",
   "execution_count": 107,
   "id": "847f635e",
   "metadata": {},
   "outputs": [
    {
     "name": "stdout",
     "output_type": "stream",
     "text": [
      "[[2020, 'Триодь Цветная', None], [2043, 'Службы второй седмицы по Пасхе', 2020], [2048, 'Понедельник', 2043], [2049, 'Последование утрени', 2048]]\n"
     ]
    }
   ],
   "source": [
    "con = sqlite3.connect(DATABASE)\n",
    "con.row_factory = sqlite3.Row\n",
    "cur = con.cursor()\n",
    "\n",
    "crumbs = []\n",
    "\n",
    "i = 85137\n",
    "\n",
    "sqlt = \"select * from hymns_hymn where id = \" + str(i)\n",
    "cur.execute(sqlt)\n",
    "hym = cur.fetchall()\n",
    "txt = hym[0][2]\n",
    "order = hym[0][6] + 1\n",
    "parentid = hym[0][1]\n",
    "hlist = [i, txt, order, parentid]\n",
    "i = parentid\n",
    "\n",
    "sqlt = \"select * from hymns_paragraph where id = \" + str(i)\n",
    "cur.execute(sqlt)\n",
    "par = cur.fetchall()\n",
    "txt = par[0][1]\n",
    "order = par[0][3]\n",
    "parentid = par[0][4]\n",
    "curlist = [i, txt, order, parentid]\n",
    "i = parentid\n",
    "\n",
    "while i:\n",
    "    psql = \"select * from hymns_textblock where id = \" + str(i)\n",
    "    cur.execute(psql)\n",
    "    pblock = cur.fetchall()\n",
    "    if pblock:\n",
    "        bid = pblock[0][0]\n",
    "        name = pblock[0][1]\n",
    "        pid = pblock[0][6]\n",
    "        crumbs.append([bid, name, pid])\n",
    "        i = pid\n",
    "\n",
    "    else:\n",
    "        break\n",
    "        \n",
    "\n",
    "crumbs = sorted(crumbs, key=lambda x: x[0])\n",
    "print(crumbs)"
   ]
  },
  {
   "cell_type": "code",
   "execution_count": 102,
   "id": "2c8d91dc",
   "metadata": {},
   "outputs": [
    {
     "name": "stdout",
     "output_type": "stream",
     "text": [
      "85137\n",
      "71169\n",
      "Бо́г Госпо́дь:\n",
      "бог господь\n",
      "14\n",
      "11\n",
      "3\n",
      "3\n",
      "1\n",
      "0\n"
     ]
    }
   ],
   "source": [
    "for i in hym[0]:\n",
    "    print(i)"
   ]
  },
  {
   "cell_type": "code",
   "execution_count": null,
   "id": "a5eef95d",
   "metadata": {},
   "outputs": [],
   "source": []
  }
 ],
 "metadata": {
  "kernelspec": {
   "display_name": "Python 3",
   "language": "python",
   "name": "python3"
  },
  "language_info": {
   "codemirror_mode": {
    "name": "ipython",
    "version": 3
   },
   "file_extension": ".py",
   "mimetype": "text/x-python",
   "name": "python",
   "nbconvert_exporter": "python",
   "pygments_lexer": "ipython3",
   "version": "3.7.3"
  }
 },
 "nbformat": 4,
 "nbformat_minor": 5
}
